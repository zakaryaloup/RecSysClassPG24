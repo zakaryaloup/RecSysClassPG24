{
 "cells": [
  {
   "cell_type": "code",
   "execution_count": 1,
   "id": "74952bc1-9a7c-414a-b6ae-f7f1b5e1effa",
   "metadata": {},
   "outputs": [],
   "source": [
    "from urllib import request\n",
    "import pandas as pd\n",
    "import zipfile\n",
    "import numpy as np\n",
    "import torch\n",
    "import torch.nn as nn\n",
    "from torch.utils.data import Dataset, DataLoader\n",
    "from tqdm import tqdm_notebook\n",
    "import tqdm\n",
    "\n",
    "from torch.optim import SGD,Adam\n",
    "from torch.nn import MSELoss\n",
    "import torch.nn as nn\n",
    "import matplotlib.pyplot as plt"
   ]
  },
  {
   "cell_type": "code",
   "execution_count": 2,
   "id": "1d1e49f1-be2f-4fb1-b044-91b7fab071bc",
   "metadata": {},
   "outputs": [],
   "source": [
    "DATASET_URL = 'http://files.grouplens.org/datasets/movielens/ml-100k.zip'\n",
    "DATASET_ARCHIVE = 'ml-100k.zip'\n",
    "\n",
    "request.urlretrieve(DATASET_URL, DATASET_ARCHIVE)\n",
    "with zipfile.ZipFile(DATASET_ARCHIVE) as archive:\n",
    "    archive.extractall()"
   ]
  },
  {
   "cell_type": "markdown",
   "id": "662ba9e6-54da-4376-b9da-67846defd1c5",
   "metadata": {},
   "source": [
    "### Task 1\n",
    "\n",
    "1. Go over the NCF paper (https://arxiv.org/abs/1708.05031) to understand the architecture of the model\n",
    "2. Implement NCF class. In particular:  \n",
    "    a. implement __init__ to create the model achtecture  \n",
    "    b. initialisation is already implemented for you  \n",
    "    c. implement forward. Forward should take u_id and i_id and return the propability of consumption given u_id and i_id (what is the output layer?)\n",
    "    d. Test your forward by providing some random u_id and i_id"
   ]
  },
  {
   "cell_type": "code",
   "execution_count": 4,
   "id": "eb7af85a-336b-4424-aefd-22814eac48ac",
   "metadata": {},
   "outputs": [
    {
     "name": "stdout",
     "output_type": "stream",
     "text": [
      "tensor([[0.4283],\n",
      "        [0.4683],\n",
      "        [0.4333]], grad_fn=<SigmoidBackward0>)\n"
     ]
    }
   ],
   "source": [
    "class NeuMF(nn.Module):\n",
    "    def __init__(self, nb_users, nb_items,\n",
    "                 mf_dim, mlp_layer_sizes, dropout=0):\n",
    "        \n",
    "        if mlp_layer_sizes[0] % 2 != 0:\n",
    "            raise RuntimeError('u dummy, mlp_layer_sizes[0] % 2 != 0')\n",
    "        super(NeuMF, self).__init__()\n",
    "        nb_mlp_layers = len(mlp_layer_sizes)\n",
    "        \n",
    "        # YOUR TASK: ADD EMBEDDING LAYERS TO THE MODEL - be careful with sizes ~5 lines of code\n",
    "        self.user_embedding_gmf = nn.Embedding(nb_users, mf_dim)\n",
    "        self.item_embedding_gmf = nn.Embedding(nb_items, mf_dim)\n",
    "        self.user_embedding_mlp = nn.Embedding(nb_users, mlp_layer_sizes[0] // 2)\n",
    "        self.item_embedding_mlp = nn.Embedding(nb_items, mlp_layer_sizes[0] // 2)\n",
    "        \n",
    "        # YOUR TASK: ADD MLPs and the final layer ~4-6 lines of code\n",
    "        mlp_layers = []\n",
    "        for i in range(len(mlp_layer_sizes) - 1):\n",
    "            mlp_layers.append(nn.Linear(mlp_layer_sizes[i], mlp_layer_sizes[i + 1]))\n",
    "            mlp_layers.append(nn.ReLU())\n",
    "            if dropout > 0:\n",
    "                mlp_layers.append(nn.Dropout(dropout))\n",
    "        self.mlp = nn.Sequential(*mlp_layers)\n",
    "        \n",
    "        self.final = nn.Linear(mf_dim + mlp_layer_sizes[-1], 1)\n",
    "        \n",
    "        # YOUR TASK: Initialize weights ~4 lines of code - use glorot (final MLP has to use lecunn\n",
    "        self._init_weights()\n",
    "\n",
    "    def _init_weights(self):\n",
    "        def glorot_uniform(layer):\n",
    "            fan_in, fan_out = layer.in_features, layer.out_features\n",
    "            limit = np.sqrt(6. / (fan_in + fan_out))\n",
    "            layer.weight.data.uniform_(-limit, limit)\n",
    "\n",
    "        def lecunn_uniform(layer):\n",
    "            fan_in, fan_out = layer.in_features, layer.out_features\n",
    "            limit = np.sqrt(3. / fan_in)\n",
    "            layer.weight.data.uniform_(-limit, limit)\n",
    "        \n",
    "        self.user_embedding_gmf.weight.data.uniform_(-0.1, 0.1)\n",
    "        self.item_embedding_gmf.weight.data.uniform_(-0.1, 0.1)\n",
    "        self.user_embedding_mlp.weight.data.uniform_(-0.1, 0.1)\n",
    "        self.item_embedding_mlp.weight.data.uniform_(-0.1, 0.1)\n",
    "\n",
    "        for layer in self.mlp:\n",
    "            if type(layer) != nn.Linear:\n",
    "                continue\n",
    "            glorot_uniform(layer)\n",
    "        lecunn_uniform(self.final)\n",
    "\n",
    "    def forward(self, user, item, sigmoid=False):\n",
    "        # YOUR TASK: Implement model forward. ~15 lines of code\n",
    "        # GMF part\n",
    "        user_gmf = self.user_embedding_gmf(user)\n",
    "        item_gmf = self.item_embedding_gmf(item)\n",
    "        gmf_output = user_gmf * item_gmf\n",
    "        \n",
    "        # MLP part\n",
    "        user_mlp = self.user_embedding_mlp(user)\n",
    "        item_mlp = self.item_embedding_mlp(item)\n",
    "        mlp_input = torch.cat([user_mlp, item_mlp], dim=1)\n",
    "        mlp_output = self.mlp(mlp_input)\n",
    "        \n",
    "        # Concatenate GMF and MLP outputs\n",
    "        output = torch.cat([gmf_output, mlp_output], dim=1)\n",
    "        output = self.final(output)\n",
    "        \n",
    "        if sigmoid:\n",
    "            output = torch.sigmoid(output)\n",
    "        \n",
    "        return output\n",
    "\n",
    "# Test the forward method\n",
    "nb_users = 1000\n",
    "nb_items = 1700\n",
    "mf_dim = 8\n",
    "mlp_layer_sizes = [16, 32, 16, 8]\n",
    "dropout = 0.2\n",
    "\n",
    "model = NeuMF(nb_users, nb_items, mf_dim, mlp_layer_sizes, dropout)\n",
    "\n",
    "# Generate some random user and item IDs\n",
    "user_ids = torch.LongTensor([1, 2, 3])\n",
    "item_ids = torch.LongTensor([4, 5, 6])\n",
    "\n",
    "# Forward pass\n",
    "output = model(user_ids, item_ids, sigmoid=True)\n",
    "print(output)\n"
   ]
  },
  {
   "cell_type": "markdown",
   "id": "7fb79876-648f-4ca7-8747-30a549a594c8",
   "metadata": {},
   "source": [
    "### Task 2\n",
    "\n",
    "1. Implement ML100kDataset. In particular:  \n",
    "    a. implement all needed functions that overload PyTorch Dataset\n",
    "    b. Implement negaive sampling. This can be approximated negative sampling negative_samples=n means that if user A has m training points (positive) it will have n*m negive points"
   ]
  },
  {
   "cell_type": "code",
   "execution_count": 5,
   "id": "0c6b869a-f634-40fe-b1c8-c1438017a306",
   "metadata": {},
   "outputs": [],
   "source": [
    "class ML100kDataset(Dataset):\n",
    "    def __init__(self,file_name,negative_samples=1):\n",
    "        ratings_df=pd.read_csv(file_name, header=None, names=['user_id', 'item_id', 'rating', 'timestamp'],delim_whitespace=True)\n",
    "        max_item = np.max(ratings_df['item_id'])\n",
    "        ratings_df.drop(['rating','timestamp'],axis=1,inplace=True)\n",
    "        ratings = torch.from_numpy(ratings_df.values)         \n",
    "        self.negative_samples = negative_samples\n",
    "        self.raw_dataset_length = len(ratings_df.index) \n",
    "        self.length_after_augmentation = self.raw_dataset_length * (self.negative_samples + 1)\n",
    "        #YOUR TASK: Implement negative sampling. ~7 lines of code. NOTE: the dataset does not have to be shuffled, but you can do this! store them in self.users,self.items,self.labels\n",
    "        #Sample neg users\n",
    "        self.users = []\n",
    "        self.items = []\n",
    "        self.labels = []\n",
    "        #sample neg items\n",
    "\n",
    "        for user, item in ratings:\n",
    "            self.users.append(user.item())\n",
    "            self.items.append(item.item())\n",
    "            self.labels.append(1)\n",
    "\n",
    "        # Negative samples\n",
    "        user_item_set = set(zip(ratings_df['user_id'], ratings_df['item_id']))\n",
    "        all_items = set(range(1, max_item + 1))\n",
    "        \n",
    "        for user, item in ratings:\n",
    "            for _ in range(negative_samples):\n",
    "                neg_item = np.random.choice(list(all_items - set(ratings_df[ratings_df['user_id'] == user.item()]['item_id'])))\n",
    "                self.users.append(user.item())\n",
    "                self.items.append(neg_item)\n",
    "                self.labels.append(0)\n",
    "\n",
    "    def __len__(self):\n",
    "        return self.length_after_augmentation\n",
    "  \n",
    "    def __getitem__(self,idx):\n",
    "        return self.users[idx],self.items[idx],self.labels[idx]"
   ]
  },
  {
   "cell_type": "markdown",
   "id": "2f688447-fa62-4aa4-a598-e132fd8918e2",
   "metadata": {},
   "source": [
    "### Task 3\n",
    "\n",
    "1. Implement training loop. In particular:  \n",
    "    a. Every epoch you make log average train loss and test/eval loss  \n",
    "    b. use different loss/optimiser/other HP. Use dependency injection to play with them.  \n",
    "    c. Find \"best\" HP during cross-validation.  \n",
    "    d. Check when model overfits with learning curves.  \n",
    "    e. What are the conclusions.  \n",
    "    f*. You can user HR@n from previous excersise to look for overfitting.  \n",
    "    g*. Check the influence of shuffling on your results"
   ]
  },
  {
   "cell_type": "code",
   "execution_count": 6,
   "id": "75100a8a-4c7a-475a-b71f-d0eefba047e9",
   "metadata": {},
   "outputs": [
    {
     "name": "stderr",
     "output_type": "stream",
     "text": [
      "/tmp/ipykernel_36/1888719100.py:9: TqdmDeprecationWarning: This function will be removed in tqdm==5.0.0\n",
      "Please use `tqdm.notebook.tqdm` instead of `tqdm.tqdm_notebook`\n",
      "  for users, items, labels in tqdm_notebook(train_loader, leave=False):\n"
     ]
    },
    {
     "data": {
      "application/vnd.jupyter.widget-view+json": {
       "model_id": "",
       "version_major": 2,
       "version_minor": 0
      },
      "text/plain": [
       "  0%|          | 0/1563 [00:00<?, ?it/s]"
      ]
     },
     "metadata": {},
     "output_type": "display_data"
    },
    {
     "name": "stdout",
     "output_type": "stream",
     "text": [
      "Epoch 1/20, Train Loss: 0.1303, Test Loss: 0.4126\n"
     ]
    },
    {
     "data": {
      "application/vnd.jupyter.widget-view+json": {
       "model_id": "",
       "version_major": 2,
       "version_minor": 0
      },
      "text/plain": [
       "  0%|          | 0/1563 [00:00<?, ?it/s]"
      ]
     },
     "metadata": {},
     "output_type": "display_data"
    },
    {
     "name": "stdout",
     "output_type": "stream",
     "text": [
      "Epoch 2/20, Train Loss: 0.1080, Test Loss: 0.3706\n"
     ]
    },
    {
     "data": {
      "application/vnd.jupyter.widget-view+json": {
       "model_id": "",
       "version_major": 2,
       "version_minor": 0
      },
      "text/plain": [
       "  0%|          | 0/1563 [00:00<?, ?it/s]"
      ]
     },
     "metadata": {},
     "output_type": "display_data"
    },
    {
     "name": "stdout",
     "output_type": "stream",
     "text": [
      "Epoch 3/20, Train Loss: 0.0954, Test Loss: 0.3409\n"
     ]
    },
    {
     "data": {
      "application/vnd.jupyter.widget-view+json": {
       "model_id": "",
       "version_major": 2,
       "version_minor": 0
      },
      "text/plain": [
       "  0%|          | 0/1563 [00:00<?, ?it/s]"
      ]
     },
     "metadata": {},
     "output_type": "display_data"
    },
    {
     "name": "stdout",
     "output_type": "stream",
     "text": [
      "Epoch 4/20, Train Loss: 0.0898, Test Loss: 0.3384\n"
     ]
    },
    {
     "data": {
      "application/vnd.jupyter.widget-view+json": {
       "model_id": "",
       "version_major": 2,
       "version_minor": 0
      },
      "text/plain": [
       "  0%|          | 0/1563 [00:00<?, ?it/s]"
      ]
     },
     "metadata": {},
     "output_type": "display_data"
    },
    {
     "name": "stdout",
     "output_type": "stream",
     "text": [
      "Epoch 5/20, Train Loss: 0.0863, Test Loss: 0.3557\n"
     ]
    },
    {
     "data": {
      "application/vnd.jupyter.widget-view+json": {
       "model_id": "",
       "version_major": 2,
       "version_minor": 0
      },
      "text/plain": [
       "  0%|          | 0/1563 [00:00<?, ?it/s]"
      ]
     },
     "metadata": {},
     "output_type": "display_data"
    },
    {
     "name": "stdout",
     "output_type": "stream",
     "text": [
      "Epoch 6/20, Train Loss: 0.0838, Test Loss: 0.3304\n"
     ]
    },
    {
     "data": {
      "application/vnd.jupyter.widget-view+json": {
       "model_id": "",
       "version_major": 2,
       "version_minor": 0
      },
      "text/plain": [
       "  0%|          | 0/1563 [00:00<?, ?it/s]"
      ]
     },
     "metadata": {},
     "output_type": "display_data"
    },
    {
     "name": "stdout",
     "output_type": "stream",
     "text": [
      "Epoch 7/20, Train Loss: 0.0820, Test Loss: 0.3459\n"
     ]
    },
    {
     "data": {
      "application/vnd.jupyter.widget-view+json": {
       "model_id": "",
       "version_major": 2,
       "version_minor": 0
      },
      "text/plain": [
       "  0%|          | 0/1563 [00:00<?, ?it/s]"
      ]
     },
     "metadata": {},
     "output_type": "display_data"
    },
    {
     "name": "stdout",
     "output_type": "stream",
     "text": [
      "Epoch 8/20, Train Loss: 0.0804, Test Loss: 0.3338\n"
     ]
    },
    {
     "data": {
      "application/vnd.jupyter.widget-view+json": {
       "model_id": "",
       "version_major": 2,
       "version_minor": 0
      },
      "text/plain": [
       "  0%|          | 0/1563 [00:00<?, ?it/s]"
      ]
     },
     "metadata": {},
     "output_type": "display_data"
    },
    {
     "name": "stdout",
     "output_type": "stream",
     "text": [
      "Epoch 9/20, Train Loss: 0.0790, Test Loss: 0.3457\n"
     ]
    },
    {
     "data": {
      "application/vnd.jupyter.widget-view+json": {
       "model_id": "",
       "version_major": 2,
       "version_minor": 0
      },
      "text/plain": [
       "  0%|          | 0/1563 [00:00<?, ?it/s]"
      ]
     },
     "metadata": {},
     "output_type": "display_data"
    },
    {
     "name": "stdout",
     "output_type": "stream",
     "text": [
      "Epoch 10/20, Train Loss: 0.0781, Test Loss: 0.3455\n"
     ]
    },
    {
     "data": {
      "application/vnd.jupyter.widget-view+json": {
       "model_id": "",
       "version_major": 2,
       "version_minor": 0
      },
      "text/plain": [
       "  0%|          | 0/1563 [00:00<?, ?it/s]"
      ]
     },
     "metadata": {},
     "output_type": "display_data"
    },
    {
     "name": "stdout",
     "output_type": "stream",
     "text": [
      "Epoch 11/20, Train Loss: 0.0772, Test Loss: 0.3417\n"
     ]
    },
    {
     "data": {
      "application/vnd.jupyter.widget-view+json": {
       "model_id": "",
       "version_major": 2,
       "version_minor": 0
      },
      "text/plain": [
       "  0%|          | 0/1563 [00:00<?, ?it/s]"
      ]
     },
     "metadata": {},
     "output_type": "display_data"
    },
    {
     "name": "stdout",
     "output_type": "stream",
     "text": [
      "Epoch 12/20, Train Loss: 0.0763, Test Loss: 0.3401\n"
     ]
    },
    {
     "data": {
      "application/vnd.jupyter.widget-view+json": {
       "model_id": "",
       "version_major": 2,
       "version_minor": 0
      },
      "text/plain": [
       "  0%|          | 0/1563 [00:00<?, ?it/s]"
      ]
     },
     "metadata": {},
     "output_type": "display_data"
    },
    {
     "name": "stdout",
     "output_type": "stream",
     "text": [
      "Epoch 13/20, Train Loss: 0.0756, Test Loss: 0.3261\n"
     ]
    },
    {
     "data": {
      "application/vnd.jupyter.widget-view+json": {
       "model_id": "",
       "version_major": 2,
       "version_minor": 0
      },
      "text/plain": [
       "  0%|          | 0/1563 [00:00<?, ?it/s]"
      ]
     },
     "metadata": {},
     "output_type": "display_data"
    },
    {
     "name": "stdout",
     "output_type": "stream",
     "text": [
      "Epoch 14/20, Train Loss: 0.0749, Test Loss: 0.3390\n"
     ]
    },
    {
     "data": {
      "application/vnd.jupyter.widget-view+json": {
       "model_id": "",
       "version_major": 2,
       "version_minor": 0
      },
      "text/plain": [
       "  0%|          | 0/1563 [00:00<?, ?it/s]"
      ]
     },
     "metadata": {},
     "output_type": "display_data"
    },
    {
     "name": "stdout",
     "output_type": "stream",
     "text": [
      "Epoch 15/20, Train Loss: 0.0743, Test Loss: 0.3351\n"
     ]
    },
    {
     "data": {
      "application/vnd.jupyter.widget-view+json": {
       "model_id": "",
       "version_major": 2,
       "version_minor": 0
      },
      "text/plain": [
       "  0%|          | 0/1563 [00:00<?, ?it/s]"
      ]
     },
     "metadata": {},
     "output_type": "display_data"
    },
    {
     "name": "stdout",
     "output_type": "stream",
     "text": [
      "Epoch 16/20, Train Loss: 0.0737, Test Loss: 0.3463\n"
     ]
    },
    {
     "data": {
      "application/vnd.jupyter.widget-view+json": {
       "model_id": "",
       "version_major": 2,
       "version_minor": 0
      },
      "text/plain": [
       "  0%|          | 0/1563 [00:00<?, ?it/s]"
      ]
     },
     "metadata": {},
     "output_type": "display_data"
    },
    {
     "name": "stdout",
     "output_type": "stream",
     "text": [
      "Epoch 17/20, Train Loss: 0.0732, Test Loss: 0.3368\n"
     ]
    },
    {
     "data": {
      "application/vnd.jupyter.widget-view+json": {
       "model_id": "",
       "version_major": 2,
       "version_minor": 0
      },
      "text/plain": [
       "  0%|          | 0/1563 [00:00<?, ?it/s]"
      ]
     },
     "metadata": {},
     "output_type": "display_data"
    },
    {
     "name": "stdout",
     "output_type": "stream",
     "text": [
      "Epoch 18/20, Train Loss: 0.0728, Test Loss: 0.3444\n"
     ]
    },
    {
     "data": {
      "application/vnd.jupyter.widget-view+json": {
       "model_id": "",
       "version_major": 2,
       "version_minor": 0
      },
      "text/plain": [
       "  0%|          | 0/1563 [00:00<?, ?it/s]"
      ]
     },
     "metadata": {},
     "output_type": "display_data"
    },
    {
     "name": "stdout",
     "output_type": "stream",
     "text": [
      "Epoch 19/20, Train Loss: 0.0722, Test Loss: 0.3503\n"
     ]
    },
    {
     "data": {
      "application/vnd.jupyter.widget-view+json": {
       "model_id": "",
       "version_major": 2,
       "version_minor": 0
      },
      "text/plain": [
       "  0%|          | 0/1563 [00:00<?, ?it/s]"
      ]
     },
     "metadata": {},
     "output_type": "display_data"
    },
    {
     "name": "stdout",
     "output_type": "stream",
     "text": [
      "Epoch 20/20, Train Loss: 0.0717, Test Loss: 0.3614\n"
     ]
    }
   ],
   "source": [
    "#YOUR TASK: Implement entire training loop for the model with selection of HPs ~25+ lines of code\n",
    "def train_model(model, train_loader, test_loader, criterion, optimizer, epochs, device):\n",
    "    train_loss = []\n",
    "    test_loss = []\n",
    "\n",
    "    for epoch in range(epochs):\n",
    "        model.train()\n",
    "        running_train_loss = 0.0\n",
    "        for users, items, labels in tqdm_notebook(train_loader, leave=False):\n",
    "            users, items, labels = users.to(device), items.to(device), labels.to(device).float()\n",
    "            \n",
    "            optimizer.zero_grad()\n",
    "            outputs = model(users, items, sigmoid=True).squeeze()\n",
    "            loss = criterion(outputs, labels)\n",
    "            loss.backward()\n",
    "            optimizer.step()\n",
    "            \n",
    "            running_train_loss += loss.item() * users.size(0)\n",
    "        \n",
    "        epoch_train_loss = running_train_loss / len(train_loader.dataset)\n",
    "        train_loss.append(epoch_train_loss)\n",
    "        \n",
    "        model.eval()\n",
    "        running_test_loss = 0.0\n",
    "        with torch.no_grad():\n",
    "            for users, items, labels in test_loader:\n",
    "                users, items, labels = users.to(device), items.to(device), labels.to(device).float()\n",
    "                outputs = model(users, items, sigmoid=True).squeeze()\n",
    "                loss = criterion(outputs, labels)\n",
    "                \n",
    "                running_test_loss += loss.item() * users.size(0)\n",
    "        \n",
    "        epoch_test_loss = running_test_loss / len(test_loader.dataset)\n",
    "        test_loss.append(epoch_test_loss)\n",
    "        \n",
    "        print(f'Epoch {epoch+1}/{epochs}, Train Loss: {epoch_train_loss:.4f}, Test Loss: {epoch_test_loss:.4f}')\n",
    "    \n",
    "    return train_loss, test_loss\n",
    "\n",
    "# Hyperparameters\n",
    "nb_users = 1000\n",
    "nb_items = 1700\n",
    "mf_dim = 8\n",
    "mlp_layer_sizes = [16, 32, 16, 8]\n",
    "dropout = 0.2\n",
    "learning_rate = 0.001\n",
    "batch_size = 256\n",
    "epochs = 20\n",
    "\n",
    "# Prepare data\n",
    "train_dataset = ML100kDataset('ml-100k/u1.base', negative_samples=4)\n",
    "test_dataset = ML100kDataset('ml-100k/u1.test', negative_samples=0)\n",
    "\n",
    "train_loader = DataLoader(train_dataset, batch_size=batch_size, shuffle=True)\n",
    "test_loader = DataLoader(test_dataset, batch_size=batch_size, shuffle=False)\n",
    "\n",
    "# Model, criterion, optimizer\n",
    "device = torch.device('cuda' if torch.cuda.is_available() else 'cpu')\n",
    "model = NeuMF(nb_users, nb_items, mf_dim, mlp_layer_sizes, dropout).to(device)\n",
    "criterion = MSELoss()\n",
    "optimizer = Adam(model.parameters(), lr=learning_rate)\n",
    "\n",
    "# Train and plot\n",
    "train_loss, test_loss = train_model(model, train_loader, test_loader, criterion, optimizer, epochs, device)\n"
   ]
  },
  {
   "cell_type": "markdown",
   "id": "98a39045-18d7-470d-8bae-99105a27c5d7",
   "metadata": {},
   "source": [
    "### Plot results"
   ]
  },
  {
   "cell_type": "code",
   "execution_count": 7,
   "id": "fb7e927a-44e4-4504-b24f-dbf1cc501ecb",
   "metadata": {},
   "outputs": [
    {
     "data": {
      "image/png": "[encoded data removed]",
      "text/plain": [
       "<Figure size 640x480 with 1 Axes>"
      ]
     },
     "metadata": {},
     "output_type": "display_data"
    }
   ],
   "source": [
    "plt.plot(train_loss,label='train_loss vs epoch')\n",
    "plt.plot(test_loss,label='test_loss vs epoch')\n",
    "plt.legend()\n",
    "plt.show()"
   ]
  },
  {
   "cell_type": "code",
   "execution_count": null,
   "id": "c384c556-a6ed-40db-95cf-8af5aa2d6403",
   "metadata": {},
   "outputs": [],
   "source": []
  }
 ],
 "metadata": {
  "kernelspec": {
   "display_name": "Python 3 (ipykernel)",
   "language": "python",
   "name": "python3"
  },
  "language_info": {
   "codemirror_mode": {
    "name": "ipython",
    "version": 3
   },
   "file_extension": ".py",
   "mimetype": "text/x-python",
   "name": "python",
   "nbconvert_exporter": "python",
   "pygments_lexer": "ipython3",
   "version": "3.8.10"
  }
 },
 "nbformat": 4,
 "nbformat_minor": 5
}
